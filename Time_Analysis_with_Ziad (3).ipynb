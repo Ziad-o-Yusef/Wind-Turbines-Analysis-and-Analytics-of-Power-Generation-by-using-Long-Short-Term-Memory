{
  "nbformat": 4,
  "nbformat_minor": 0,
  "metadata": {
    "colab": {
      "provenance": []
    },
    "kernelspec": {
      "name": "python3",
      "display_name": "Python 3"
    },
    "language_info": {
      "name": "python"
    }
  },
  "cells": [
    {
      "cell_type": "code",
      "execution_count": 2,
      "metadata": {
        "colab": {
          "base_uri": "https://localhost:8080/"
        },
        "id": "BctbQdXoVdnq",
        "outputId": "992b15c8-ddde-48bb-8566-186786599181"
      },
      "outputs": [
        {
          "output_type": "stream",
          "name": "stdout",
          "text": [
            "Drive already mounted at /content/drive; to attempt to forcibly remount, call drive.mount(\"/content/drive\", force_remount=True).\n"
          ]
        }
      ],
      "source": [
        "from google.colab import drive\n",
        "drive.mount('/content/drive')\n",
        "import os \n",
        "import pandas as pd \n",
        "import numpy as np \n",
        "import seaborn as sns \n",
        "import matplotlib.pyplot as plt\n",
        "from datetime import datetime"
      ]
    },
    {
      "cell_type": "code",
      "source": [
        "os.environ['KAGGLE_CONFIG_DIR'] = \"/content/drive/MyDrive/Ziad_Kaggle_API\""
      ],
      "metadata": {
        "id": "uvOH_bnKVjWi"
      },
      "execution_count": 3,
      "outputs": []
    },
    {
      "cell_type": "code",
      "source": [
        "! kaggle datasets download psycon/wind-turbine-energy-kw-generation-data\n",
        "! unzip wind-turbine-energy-kw-generation-data.zip"
      ],
      "metadata": {
        "colab": {
          "base_uri": "https://localhost:8080/"
        },
        "id": "CHAUMxdqV7Oy",
        "outputId": "9261bee2-3aaa-47f8-bd59-9135b45f9426"
      },
      "execution_count": 4,
      "outputs": [
        {
          "output_type": "stream",
          "name": "stdout",
          "text": [
            "wind-turbine-energy-kw-generation-data.zip: Skipping, found more recently modified local copy (use --force to force download)\n",
            "Archive:  wind-turbine-energy-kw-generation-data.zip\n",
            "replace feature_units.csv? [y]es, [n]o, [A]ll, [N]one, [r]ename: A\n",
            "  inflating: feature_units.csv       \n",
            "  inflating: features.csv            \n",
            "  inflating: power.csv               \n",
            "  inflating: sample_submission.csv   \n"
          ]
        }
      ]
    },
    {
      "cell_type": "markdown",
      "source": [
        " We have 3 dataset files about this data \n",
        "\n",
        "\n",
        "1.   Power dataset [ power output quantity ]\n",
        "2.   Units of thw features\n",
        "3.   features\n",
        "\n"
      ],
      "metadata": {
        "id": "LclLJ2BehmHq"
      }
    },
    {
      "cell_type": "code",
      "source": [
        "df=pd.read_csv('power.csv')\n",
        "df.head()"
      ],
      "metadata": {
        "colab": {
          "base_uri": "https://localhost:8080/",
          "height": 206
        },
        "id": "_WNQaYIVV9q2",
        "outputId": "cc532d64-654c-4ba0-e769-f7586ac2e8db"
      },
      "execution_count": 5,
      "outputs": [
        {
          "output_type": "execute_result",
          "data": {
            "text/plain": [
              "             Timestamp    Power(kW)\n",
              "0  2019-01-01 00:00:00   705.876648\n",
              "1  2019-01-01 00:10:00   884.711670\n",
              "2  2019-01-01 00:20:00   982.875000\n",
              "3  2019-01-01 00:30:00  1115.943359\n",
              "4  2019-01-01 00:40:00  1263.841675"
            ],
            "text/html": [
              "\n",
              "  <div id=\"df-0cf6e824-2874-43b9-a5f8-1a5df1a9f78b\">\n",
              "    <div class=\"colab-df-container\">\n",
              "      <div>\n",
              "<style scoped>\n",
              "    .dataframe tbody tr th:only-of-type {\n",
              "        vertical-align: middle;\n",
              "    }\n",
              "\n",
              "    .dataframe tbody tr th {\n",
              "        vertical-align: top;\n",
              "    }\n",
              "\n",
              "    .dataframe thead th {\n",
              "        text-align: right;\n",
              "    }\n",
              "</style>\n",
              "<table border=\"1\" class=\"dataframe\">\n",
              "  <thead>\n",
              "    <tr style=\"text-align: right;\">\n",
              "      <th></th>\n",
              "      <th>Timestamp</th>\n",
              "      <th>Power(kW)</th>\n",
              "    </tr>\n",
              "  </thead>\n",
              "  <tbody>\n",
              "    <tr>\n",
              "      <th>0</th>\n",
              "      <td>2019-01-01 00:00:00</td>\n",
              "      <td>705.876648</td>\n",
              "    </tr>\n",
              "    <tr>\n",
              "      <th>1</th>\n",
              "      <td>2019-01-01 00:10:00</td>\n",
              "      <td>884.711670</td>\n",
              "    </tr>\n",
              "    <tr>\n",
              "      <th>2</th>\n",
              "      <td>2019-01-01 00:20:00</td>\n",
              "      <td>982.875000</td>\n",
              "    </tr>\n",
              "    <tr>\n",
              "      <th>3</th>\n",
              "      <td>2019-01-01 00:30:00</td>\n",
              "      <td>1115.943359</td>\n",
              "    </tr>\n",
              "    <tr>\n",
              "      <th>4</th>\n",
              "      <td>2019-01-01 00:40:00</td>\n",
              "      <td>1263.841675</td>\n",
              "    </tr>\n",
              "  </tbody>\n",
              "</table>\n",
              "</div>\n",
              "      <button class=\"colab-df-convert\" onclick=\"convertToInteractive('df-0cf6e824-2874-43b9-a5f8-1a5df1a9f78b')\"\n",
              "              title=\"Convert this dataframe to an interactive table.\"\n",
              "              style=\"display:none;\">\n",
              "        \n",
              "  <svg xmlns=\"http://www.w3.org/2000/svg\" height=\"24px\"viewBox=\"0 0 24 24\"\n",
              "       width=\"24px\">\n",
              "    <path d=\"M0 0h24v24H0V0z\" fill=\"none\"/>\n",
              "    <path d=\"M18.56 5.44l.94 2.06.94-2.06 2.06-.94-2.06-.94-.94-2.06-.94 2.06-2.06.94zm-11 1L8.5 8.5l.94-2.06 2.06-.94-2.06-.94L8.5 2.5l-.94 2.06-2.06.94zm10 10l.94 2.06.94-2.06 2.06-.94-2.06-.94-.94-2.06-.94 2.06-2.06.94z\"/><path d=\"M17.41 7.96l-1.37-1.37c-.4-.4-.92-.59-1.43-.59-.52 0-1.04.2-1.43.59L10.3 9.45l-7.72 7.72c-.78.78-.78 2.05 0 2.83L4 21.41c.39.39.9.59 1.41.59.51 0 1.02-.2 1.41-.59l7.78-7.78 2.81-2.81c.8-.78.8-2.07 0-2.86zM5.41 20L4 18.59l7.72-7.72 1.47 1.35L5.41 20z\"/>\n",
              "  </svg>\n",
              "      </button>\n",
              "      \n",
              "  <style>\n",
              "    .colab-df-container {\n",
              "      display:flex;\n",
              "      flex-wrap:wrap;\n",
              "      gap: 12px;\n",
              "    }\n",
              "\n",
              "    .colab-df-convert {\n",
              "      background-color: #E8F0FE;\n",
              "      border: none;\n",
              "      border-radius: 50%;\n",
              "      cursor: pointer;\n",
              "      display: none;\n",
              "      fill: #1967D2;\n",
              "      height: 32px;\n",
              "      padding: 0 0 0 0;\n",
              "      width: 32px;\n",
              "    }\n",
              "\n",
              "    .colab-df-convert:hover {\n",
              "      background-color: #E2EBFA;\n",
              "      box-shadow: 0px 1px 2px rgba(60, 64, 67, 0.3), 0px 1px 3px 1px rgba(60, 64, 67, 0.15);\n",
              "      fill: #174EA6;\n",
              "    }\n",
              "\n",
              "    [theme=dark] .colab-df-convert {\n",
              "      background-color: #3B4455;\n",
              "      fill: #D2E3FC;\n",
              "    }\n",
              "\n",
              "    [theme=dark] .colab-df-convert:hover {\n",
              "      background-color: #434B5C;\n",
              "      box-shadow: 0px 1px 3px 1px rgba(0, 0, 0, 0.15);\n",
              "      filter: drop-shadow(0px 1px 2px rgba(0, 0, 0, 0.3));\n",
              "      fill: #FFFFFF;\n",
              "    }\n",
              "  </style>\n",
              "\n",
              "      <script>\n",
              "        const buttonEl =\n",
              "          document.querySelector('#df-0cf6e824-2874-43b9-a5f8-1a5df1a9f78b button.colab-df-convert');\n",
              "        buttonEl.style.display =\n",
              "          google.colab.kernel.accessAllowed ? 'block' : 'none';\n",
              "\n",
              "        async function convertToInteractive(key) {\n",
              "          const element = document.querySelector('#df-0cf6e824-2874-43b9-a5f8-1a5df1a9f78b');\n",
              "          const dataTable =\n",
              "            await google.colab.kernel.invokeFunction('convertToInteractive',\n",
              "                                                     [key], {});\n",
              "          if (!dataTable) return;\n",
              "\n",
              "          const docLinkHtml = 'Like what you see? Visit the ' +\n",
              "            '<a target=\"_blank\" href=https://colab.research.google.com/notebooks/data_table.ipynb>data table notebook</a>'\n",
              "            + ' to learn more about interactive tables.';\n",
              "          element.innerHTML = '';\n",
              "          dataTable['output_type'] = 'display_data';\n",
              "          await google.colab.output.renderOutput(dataTable, element);\n",
              "          const docLink = document.createElement('div');\n",
              "          docLink.innerHTML = docLinkHtml;\n",
              "          element.appendChild(docLink);\n",
              "        }\n",
              "      </script>\n",
              "    </div>\n",
              "  </div>\n",
              "  "
            ]
          },
          "metadata": {},
          "execution_count": 5
        }
      ]
    },
    {
      "cell_type": "code",
      "source": [
        "df.tail()"
      ],
      "metadata": {
        "colab": {
          "base_uri": "https://localhost:8080/",
          "height": 206
        },
        "id": "xU48SQAiWDGy",
        "outputId": "589c3882-b777-4705-f089-c41672bc056c"
      },
      "execution_count": 6,
      "outputs": [
        {
          "output_type": "execute_result",
          "data": {
            "text/plain": [
              "                  Timestamp    Power(kW)\n",
              "136725  2021-08-14 23:10:00  2757.728271\n",
              "136726  2021-08-14 23:20:00  2758.323242\n",
              "136727  2021-08-14 23:30:00  2759.243408\n",
              "136728  2021-08-14 23:40:00  2761.261719\n",
              "136729  2021-08-14 23:50:00  2758.593262"
            ],
            "text/html": [
              "\n",
              "  <div id=\"df-713686dc-3764-4ac7-b618-9ea1bcce8adc\">\n",
              "    <div class=\"colab-df-container\">\n",
              "      <div>\n",
              "<style scoped>\n",
              "    .dataframe tbody tr th:only-of-type {\n",
              "        vertical-align: middle;\n",
              "    }\n",
              "\n",
              "    .dataframe tbody tr th {\n",
              "        vertical-align: top;\n",
              "    }\n",
              "\n",
              "    .dataframe thead th {\n",
              "        text-align: right;\n",
              "    }\n",
              "</style>\n",
              "<table border=\"1\" class=\"dataframe\">\n",
              "  <thead>\n",
              "    <tr style=\"text-align: right;\">\n",
              "      <th></th>\n",
              "      <th>Timestamp</th>\n",
              "      <th>Power(kW)</th>\n",
              "    </tr>\n",
              "  </thead>\n",
              "  <tbody>\n",
              "    <tr>\n",
              "      <th>136725</th>\n",
              "      <td>2021-08-14 23:10:00</td>\n",
              "      <td>2757.728271</td>\n",
              "    </tr>\n",
              "    <tr>\n",
              "      <th>136726</th>\n",
              "      <td>2021-08-14 23:20:00</td>\n",
              "      <td>2758.323242</td>\n",
              "    </tr>\n",
              "    <tr>\n",
              "      <th>136727</th>\n",
              "      <td>2021-08-14 23:30:00</td>\n",
              "      <td>2759.243408</td>\n",
              "    </tr>\n",
              "    <tr>\n",
              "      <th>136728</th>\n",
              "      <td>2021-08-14 23:40:00</td>\n",
              "      <td>2761.261719</td>\n",
              "    </tr>\n",
              "    <tr>\n",
              "      <th>136729</th>\n",
              "      <td>2021-08-14 23:50:00</td>\n",
              "      <td>2758.593262</td>\n",
              "    </tr>\n",
              "  </tbody>\n",
              "</table>\n",
              "</div>\n",
              "      <button class=\"colab-df-convert\" onclick=\"convertToInteractive('df-713686dc-3764-4ac7-b618-9ea1bcce8adc')\"\n",
              "              title=\"Convert this dataframe to an interactive table.\"\n",
              "              style=\"display:none;\">\n",
              "        \n",
              "  <svg xmlns=\"http://www.w3.org/2000/svg\" height=\"24px\"viewBox=\"0 0 24 24\"\n",
              "       width=\"24px\">\n",
              "    <path d=\"M0 0h24v24H0V0z\" fill=\"none\"/>\n",
              "    <path d=\"M18.56 5.44l.94 2.06.94-2.06 2.06-.94-2.06-.94-.94-2.06-.94 2.06-2.06.94zm-11 1L8.5 8.5l.94-2.06 2.06-.94-2.06-.94L8.5 2.5l-.94 2.06-2.06.94zm10 10l.94 2.06.94-2.06 2.06-.94-2.06-.94-.94-2.06-.94 2.06-2.06.94z\"/><path d=\"M17.41 7.96l-1.37-1.37c-.4-.4-.92-.59-1.43-.59-.52 0-1.04.2-1.43.59L10.3 9.45l-7.72 7.72c-.78.78-.78 2.05 0 2.83L4 21.41c.39.39.9.59 1.41.59.51 0 1.02-.2 1.41-.59l7.78-7.78 2.81-2.81c.8-.78.8-2.07 0-2.86zM5.41 20L4 18.59l7.72-7.72 1.47 1.35L5.41 20z\"/>\n",
              "  </svg>\n",
              "      </button>\n",
              "      \n",
              "  <style>\n",
              "    .colab-df-container {\n",
              "      display:flex;\n",
              "      flex-wrap:wrap;\n",
              "      gap: 12px;\n",
              "    }\n",
              "\n",
              "    .colab-df-convert {\n",
              "      background-color: #E8F0FE;\n",
              "      border: none;\n",
              "      border-radius: 50%;\n",
              "      cursor: pointer;\n",
              "      display: none;\n",
              "      fill: #1967D2;\n",
              "      height: 32px;\n",
              "      padding: 0 0 0 0;\n",
              "      width: 32px;\n",
              "    }\n",
              "\n",
              "    .colab-df-convert:hover {\n",
              "      background-color: #E2EBFA;\n",
              "      box-shadow: 0px 1px 2px rgba(60, 64, 67, 0.3), 0px 1px 3px 1px rgba(60, 64, 67, 0.15);\n",
              "      fill: #174EA6;\n",
              "    }\n",
              "\n",
              "    [theme=dark] .colab-df-convert {\n",
              "      background-color: #3B4455;\n",
              "      fill: #D2E3FC;\n",
              "    }\n",
              "\n",
              "    [theme=dark] .colab-df-convert:hover {\n",
              "      background-color: #434B5C;\n",
              "      box-shadow: 0px 1px 3px 1px rgba(0, 0, 0, 0.15);\n",
              "      filter: drop-shadow(0px 1px 2px rgba(0, 0, 0, 0.3));\n",
              "      fill: #FFFFFF;\n",
              "    }\n",
              "  </style>\n",
              "\n",
              "      <script>\n",
              "        const buttonEl =\n",
              "          document.querySelector('#df-713686dc-3764-4ac7-b618-9ea1bcce8adc button.colab-df-convert');\n",
              "        buttonEl.style.display =\n",
              "          google.colab.kernel.accessAllowed ? 'block' : 'none';\n",
              "\n",
              "        async function convertToInteractive(key) {\n",
              "          const element = document.querySelector('#df-713686dc-3764-4ac7-b618-9ea1bcce8adc');\n",
              "          const dataTable =\n",
              "            await google.colab.kernel.invokeFunction('convertToInteractive',\n",
              "                                                     [key], {});\n",
              "          if (!dataTable) return;\n",
              "\n",
              "          const docLinkHtml = 'Like what you see? Visit the ' +\n",
              "            '<a target=\"_blank\" href=https://colab.research.google.com/notebooks/data_table.ipynb>data table notebook</a>'\n",
              "            + ' to learn more about interactive tables.';\n",
              "          element.innerHTML = '';\n",
              "          dataTable['output_type'] = 'display_data';\n",
              "          await google.colab.output.renderOutput(dataTable, element);\n",
              "          const docLink = document.createElement('div');\n",
              "          docLink.innerHTML = docLinkHtml;\n",
              "          element.appendChild(docLink);\n",
              "        }\n",
              "      </script>\n",
              "    </div>\n",
              "  </div>\n",
              "  "
            ]
          },
          "metadata": {},
          "execution_count": 6
        }
      ]
    },
    {
      "cell_type": "code",
      "source": [
        "sns.boxplot(y='Power(kW)',data=df);"
      ],
      "metadata": {
        "colab": {
          "base_uri": "https://localhost:8080/",
          "height": 252
        },
        "id": "tIwcaowZWJHp",
        "outputId": "f22e6ddd-cc2f-49c7-c7bf-aa566e3f9ad2"
      },
      "execution_count": 7,
      "outputs": [
        {
          "output_type": "display_data",
          "data": {
            "text/plain": [
              "<Figure size 432x288 with 1 Axes>"
            ],
            "image/png": "[encoded data removed]"
          },
          "metadata": {
            "needs_background": "light"
          }
        }
      ]
    },
    {
      "cell_type": "markdown",
      "source": [
        "In the general form, the numbers appear in a moderate state in relation to the goal, and it does not require us to work on the goal to improve it in one way or another."
      ],
      "metadata": {
        "id": "qHZPOO2JioNJ"
      }
    },
    {
      "cell_type": "code",
      "source": [
        "df['Timestamp'][0], df['Timestamp'][136729]"
      ],
      "metadata": {
        "colab": {
          "base_uri": "https://localhost:8080/"
        },
        "id": "JPwNS1AgWTjJ",
        "outputId": "41b1041c-d236-49bc-c5a7-37c25356a90d"
      },
      "execution_count": 8,
      "outputs": [
        {
          "output_type": "execute_result",
          "data": {
            "text/plain": [
              "('2019-01-01 00:00:00', '2021-08-14 23:50:00')"
            ]
          },
          "metadata": {},
          "execution_count": 8
        }
      ]
    },
    {
      "cell_type": "code",
      "source": [
        "df['Timestamp'][0], df['Timestamp'][1], df['Timestamp'][2]"
      ],
      "metadata": {
        "colab": {
          "base_uri": "https://localhost:8080/"
        },
        "id": "ufy3CUK1WVuf",
        "outputId": "3ccb1519-14fc-42ce-97d2-4978fd10b0a8"
      },
      "execution_count": 9,
      "outputs": [
        {
          "output_type": "execute_result",
          "data": {
            "text/plain": [
              "('2019-01-01 00:00:00', '2019-01-01 00:10:00', '2019-01-01 00:20:00')"
            ]
          },
          "metadata": {},
          "execution_count": 9
        }
      ]
    },
    {
      "cell_type": "markdown",
      "source": [
        "Samples were taken on a daily basis every 10 minutes for a period from the beginning of 2019 to the month of 8 of 2021, so our database is strong and large and dealing with it is a bit difficult"
      ],
      "metadata": {
        "id": "HxyEFwbbi73I"
      }
    },
    {
      "cell_type": "code",
      "source": [
        "features_df = pd.read_csv('features.csv')\n",
        "features_df.head()"
      ],
      "metadata": {
        "colab": {
          "base_uri": "https://localhost:8080/",
          "height": 542
        },
        "id": "yDBL1tq7WYG0",
        "outputId": "787fefa1-ef82-4f47-e32a-780c9d19eac8"
      },
      "execution_count": 10,
      "outputs": [
        {
          "output_type": "execute_result",
          "data": {
            "text/plain": [
              "             Timestamp  Gearbox_T1_High_Speed_Shaft_Temperature  \\\n",
              "0  2019-01-01 00:00:00                                57.000000   \n",
              "1  2019-01-01 00:10:00                                57.693333   \n",
              "2  2019-01-01 00:20:00                                59.000000   \n",
              "3  2019-01-01 00:30:00                                59.881668   \n",
              "4  2019-01-01 00:40:00                                61.290001   \n",
              "\n",
              "   Gearbox_T3_High_Speed_Shaft_Temperature  \\\n",
              "0                                59.000000   \n",
              "1                                59.485001   \n",
              "2                                60.756668   \n",
              "3                                61.563332   \n",
              "4                                62.586666   \n",
              "\n",
              "   Gearbox_T1_Intermediate_Speed_Shaft_Temperature  \\\n",
              "0                                        52.000000   \n",
              "1                                        52.450001   \n",
              "2                                        53.536667   \n",
              "3                                        54.413334   \n",
              "4                                        55.485001   \n",
              "\n",
              "   Temperature Gearbox Bearing Hollow Shaft  Tower Acceleration Normal  \\\n",
              "0                                 56.158333                  47.053776   \n",
              "1                                 57.000000                  64.969742   \n",
              "2                                 57.775002                  51.149670   \n",
              "3                                 58.683334                  58.740929   \n",
              "4                                 59.623333                  53.264774   \n",
              "\n",
              "   Gearbox_Oil-2_Temperature  Tower Acceleration Lateral  \\\n",
              "0                  57.000000                   18.890772   \n",
              "1                  57.413334                   28.560265   \n",
              "2                  58.728333                   34.228813   \n",
              "3                  59.518333                   35.593220   \n",
              "4                  60.665001                   38.552731   \n",
              "\n",
              "   Temperature Bearing_A  Temperature Trafo-3  ...  \\\n",
              "0              35.000000            48.576668  ...   \n",
              "1              35.233334            48.000000  ...   \n",
              "2              36.000000            48.053333  ...   \n",
              "3              36.000000            48.788334  ...   \n",
              "4              36.000000            49.000000  ...   \n",
              "\n",
              "   Blade-1 Actual Value_Angle-A  Blade-2 Set Value_Degree  \\\n",
              "0                      0.055473                  0.267122   \n",
              "1                      0.055473                  0.267122   \n",
              "2                      0.055473                  0.267122   \n",
              "3                      0.055473                  0.267122   \n",
              "4                      0.053982                  0.267612   \n",
              "\n",
              "   Pitch Demand Baseline_Degree  Blade-1 Set Value_Degree  \\\n",
              "0                           0.0                  0.058617   \n",
              "1                           0.0                  0.058617   \n",
              "2                           0.0                  0.058617   \n",
              "3                           0.0                  0.058617   \n",
              "4                           0.0                  0.058703   \n",
              "\n",
              "   Blade-3 Set Value_Degree  Moment Q Direction  Moment Q Filltered  \\\n",
              "0                 -0.325738           37.867054           39.281124   \n",
              "1                 -0.325738          -90.169106          -89.018669   \n",
              "2                 -0.325738          -88.556343          -88.422020   \n",
              "3                 -0.325738         -123.755341         -124.858444   \n",
              "4                 -0.325443         -142.533325         -142.053543   \n",
              "\n",
              "   Proxy Sensor_Degree-45  Turbine State  Proxy Sensor_Degree-315  \n",
              "0                5.732657            1.0                 5.779913  \n",
              "1                5.813177            1.0                 5.796757  \n",
              "2                5.786413            1.0                 5.772958  \n",
              "3                5.758913            1.0                 5.728393  \n",
              "4                5.724591            1.0                 5.687730  \n",
              "\n",
              "[5 rows x 77 columns]"
            ],
            "text/html": [
              "\n",
              "  <div id=\"df-007d7ad1-459a-4e18-b73c-917296b20875\">\n",
              "    <div class=\"colab-df-container\">\n",
              "      <div>\n",
              "<style scoped>\n",
              "    .dataframe tbody tr th:only-of-type {\n",
              "        vertical-align: middle;\n",
              "    }\n",
              "\n",
              "    .dataframe tbody tr th {\n",
              "        vertical-align: top;\n",
              "    }\n",
              "\n",
              "    .dataframe thead th {\n",
              "        text-align: right;\n",
              "    }\n",
              "</style>\n",
              "<table border=\"1\" class=\"dataframe\">\n",
              "  <thead>\n",
              "    <tr style=\"text-align: right;\">\n",
              "      <th></th>\n",
              "      <th>Timestamp</th>\n",
              "      <th>Gearbox_T1_High_Speed_Shaft_Temperature</th>\n",
              "      <th>Gearbox_T3_High_Speed_Shaft_Temperature</th>\n",
              "      <th>Gearbox_T1_Intermediate_Speed_Shaft_Temperature</th>\n",
              "      <th>Temperature Gearbox Bearing Hollow Shaft</th>\n",
              "      <th>Tower Acceleration Normal</th>\n",
              "      <th>Gearbox_Oil-2_Temperature</th>\n",
              "      <th>Tower Acceleration Lateral</th>\n",
              "      <th>Temperature Bearing_A</th>\n",
              "      <th>Temperature Trafo-3</th>\n",
              "      <th>...</th>\n",
              "      <th>Blade-1 Actual Value_Angle-A</th>\n",
              "      <th>Blade-2 Set Value_Degree</th>\n",
              "      <th>Pitch Demand Baseline_Degree</th>\n",
              "      <th>Blade-1 Set Value_Degree</th>\n",
              "      <th>Blade-3 Set Value_Degree</th>\n",
              "      <th>Moment Q Direction</th>\n",
              "      <th>Moment Q Filltered</th>\n",
              "      <th>Proxy Sensor_Degree-45</th>\n",
              "      <th>Turbine State</th>\n",
              "      <th>Proxy Sensor_Degree-315</th>\n",
              "    </tr>\n",
              "  </thead>\n",
              "  <tbody>\n",
              "    <tr>\n",
              "      <th>0</th>\n",
              "      <td>2019-01-01 00:00:00</td>\n",
              "      <td>57.000000</td>\n",
              "      <td>59.000000</td>\n",
              "      <td>52.000000</td>\n",
              "      <td>56.158333</td>\n",
              "      <td>47.053776</td>\n",
              "      <td>57.000000</td>\n",
              "      <td>18.890772</td>\n",
              "      <td>35.000000</td>\n",
              "      <td>48.576668</td>\n",
              "      <td>...</td>\n",
              "      <td>0.055473</td>\n",
              "      <td>0.267122</td>\n",
              "      <td>0.0</td>\n",
              "      <td>0.058617</td>\n",
              "      <td>-0.325738</td>\n",
              "      <td>37.867054</td>\n",
              "      <td>39.281124</td>\n",
              "      <td>5.732657</td>\n",
              "      <td>1.0</td>\n",
              "      <td>5.779913</td>\n",
              "    </tr>\n",
              "    <tr>\n",
              "      <th>1</th>\n",
              "      <td>2019-01-01 00:10:00</td>\n",
              "      <td>57.693333</td>\n",
              "      <td>59.485001</td>\n",
              "      <td>52.450001</td>\n",
              "      <td>57.000000</td>\n",
              "      <td>64.969742</td>\n",
              "      <td>57.413334</td>\n",
              "      <td>28.560265</td>\n",
              "      <td>35.233334</td>\n",
              "      <td>48.000000</td>\n",
              "      <td>...</td>\n",
              "      <td>0.055473</td>\n",
              "      <td>0.267122</td>\n",
              "      <td>0.0</td>\n",
              "      <td>0.058617</td>\n",
              "      <td>-0.325738</td>\n",
              "      <td>-90.169106</td>\n",
              "      <td>-89.018669</td>\n",
              "      <td>5.813177</td>\n",
              "      <td>1.0</td>\n",
              "      <td>5.796757</td>\n",
              "    </tr>\n",
              "    <tr>\n",
              "      <th>2</th>\n",
              "      <td>2019-01-01 00:20:00</td>\n",
              "      <td>59.000000</td>\n",
              "      <td>60.756668</td>\n",
              "      <td>53.536667</td>\n",
              "      <td>57.775002</td>\n",
              "      <td>51.149670</td>\n",
              "      <td>58.728333</td>\n",
              "      <td>34.228813</td>\n",
              "      <td>36.000000</td>\n",
              "      <td>48.053333</td>\n",
              "      <td>...</td>\n",
              "      <td>0.055473</td>\n",
              "      <td>0.267122</td>\n",
              "      <td>0.0</td>\n",
              "      <td>0.058617</td>\n",
              "      <td>-0.325738</td>\n",
              "      <td>-88.556343</td>\n",
              "      <td>-88.422020</td>\n",
              "      <td>5.786413</td>\n",
              "      <td>1.0</td>\n",
              "      <td>5.772958</td>\n",
              "    </tr>\n",
              "    <tr>\n",
              "      <th>3</th>\n",
              "      <td>2019-01-01 00:30:00</td>\n",
              "      <td>59.881668</td>\n",
              "      <td>61.563332</td>\n",
              "      <td>54.413334</td>\n",
              "      <td>58.683334</td>\n",
              "      <td>58.740929</td>\n",
              "      <td>59.518333</td>\n",
              "      <td>35.593220</td>\n",
              "      <td>36.000000</td>\n",
              "      <td>48.788334</td>\n",
              "      <td>...</td>\n",
              "      <td>0.055473</td>\n",
              "      <td>0.267122</td>\n",
              "      <td>0.0</td>\n",
              "      <td>0.058617</td>\n",
              "      <td>-0.325738</td>\n",
              "      <td>-123.755341</td>\n",
              "      <td>-124.858444</td>\n",
              "      <td>5.758913</td>\n",
              "      <td>1.0</td>\n",
              "      <td>5.728393</td>\n",
              "    </tr>\n",
              "    <tr>\n",
              "      <th>4</th>\n",
              "      <td>2019-01-01 00:40:00</td>\n",
              "      <td>61.290001</td>\n",
              "      <td>62.586666</td>\n",
              "      <td>55.485001</td>\n",
              "      <td>59.623333</td>\n",
              "      <td>53.264774</td>\n",
              "      <td>60.665001</td>\n",
              "      <td>38.552731</td>\n",
              "      <td>36.000000</td>\n",
              "      <td>49.000000</td>\n",
              "      <td>...</td>\n",
              "      <td>0.053982</td>\n",
              "      <td>0.267612</td>\n",
              "      <td>0.0</td>\n",
              "      <td>0.058703</td>\n",
              "      <td>-0.325443</td>\n",
              "      <td>-142.533325</td>\n",
              "      <td>-142.053543</td>\n",
              "      <td>5.724591</td>\n",
              "      <td>1.0</td>\n",
              "      <td>5.687730</td>\n",
              "    </tr>\n",
              "  </tbody>\n",
              "</table>\n",
              "<p>5 rows × 77 columns</p>\n",
              "</div>\n",
              "      <button class=\"colab-df-convert\" onclick=\"convertToInteractive('df-007d7ad1-459a-4e18-b73c-917296b20875')\"\n",
              "              title=\"Convert this dataframe to an interactive table.\"\n",
              "              style=\"display:none;\">\n",
              "        \n",
              "  <svg xmlns=\"http://www.w3.org/2000/svg\" height=\"24px\"viewBox=\"0 0 24 24\"\n",
              "       width=\"24px\">\n",
              "    <path d=\"M0 0h24v24H0V0z\" fill=\"none\"/>\n",
              "    <path d=\"M18.56 5.44l.94 2.06.94-2.06 2.06-.94-2.06-.94-.94-2.06-.94 2.06-2.06.94zm-11 1L8.5 8.5l.94-2.06 2.06-.94-2.06-.94L8.5 2.5l-.94 2.06-2.06.94zm10 10l.94 2.06.94-2.06 2.06-.94-2.06-.94-.94-2.06-.94 2.06-2.06.94z\"/><path d=\"M17.41 7.96l-1.37-1.37c-.4-.4-.92-.59-1.43-.59-.52 0-1.04.2-1.43.59L10.3 9.45l-7.72 7.72c-.78.78-.78 2.05 0 2.83L4 21.41c.39.39.9.59 1.41.59.51 0 1.02-.2 1.41-.59l7.78-7.78 2.81-2.81c.8-.78.8-2.07 0-2.86zM5.41 20L4 18.59l7.72-7.72 1.47 1.35L5.41 20z\"/>\n",
              "  </svg>\n",
              "      </button>\n",
              "      \n",
              "  <style>\n",
              "    .colab-df-container {\n",
              "      display:flex;\n",
              "      flex-wrap:wrap;\n",
              "      gap: 12px;\n",
              "    }\n",
              "\n",
              "    .colab-df-convert {\n",
              "      background-color: #E8F0FE;\n",
              "      border: none;\n",
              "      border-radius: 50%;\n",
              "      cursor: pointer;\n",
              "      display: none;\n",
              "      fill: #1967D2;\n",
              "      height: 32px;\n",
              "      padding: 0 0 0 0;\n",
              "      width: 32px;\n",
              "    }\n",
              "\n",
              "    .colab-df-convert:hover {\n",
              "      background-color: #E2EBFA;\n",
              "      box-shadow: 0px 1px 2px rgba(60, 64, 67, 0.3), 0px 1px 3px 1px rgba(60, 64, 67, 0.15);\n",
              "      fill: #174EA6;\n",
              "    }\n",
              "\n",
              "    [theme=dark] .colab-df-convert {\n",
              "      background-color: #3B4455;\n",
              "      fill: #D2E3FC;\n",
              "    }\n",
              "\n",
              "    [theme=dark] .colab-df-convert:hover {\n",
              "      background-color: #434B5C;\n",
              "      box-shadow: 0px 1px 3px 1px rgba(0, 0, 0, 0.15);\n",
              "      filter: drop-shadow(0px 1px 2px rgba(0, 0, 0, 0.3));\n",
              "      fill: #FFFFFF;\n",
              "    }\n",
              "  </style>\n",
              "\n",
              "      <script>\n",
              "        const buttonEl =\n",
              "          document.querySelector('#df-007d7ad1-459a-4e18-b73c-917296b20875 button.colab-df-convert');\n",
              "        buttonEl.style.display =\n",
              "          google.colab.kernel.accessAllowed ? 'block' : 'none';\n",
              "\n",
              "        async function convertToInteractive(key) {\n",
              "          const element = document.querySelector('#df-007d7ad1-459a-4e18-b73c-917296b20875');\n",
              "          const dataTable =\n",
              "            await google.colab.kernel.invokeFunction('convertToInteractive',\n",
              "                                                     [key], {});\n",
              "          if (!dataTable) return;\n",
              "\n",
              "          const docLinkHtml = 'Like what you see? Visit the ' +\n",
              "            '<a target=\"_blank\" href=https://colab.research.google.com/notebooks/data_table.ipynb>data table notebook</a>'\n",
              "            + ' to learn more about interactive tables.';\n",
              "          element.innerHTML = '';\n",
              "          dataTable['output_type'] = 'display_data';\n",
              "          await google.colab.output.renderOutput(dataTable, element);\n",
              "          const docLink = document.createElement('div');\n",
              "          docLink.innerHTML = docLinkHtml;\n",
              "          element.appendChild(docLink);\n",
              "        }\n",
              "      </script>\n",
              "    </div>\n",
              "  </div>\n",
              "  "
            ]
          },
          "metadata": {},
          "execution_count": 10
        }
      ]
    },
    {
      "cell_type": "code",
      "source": [
        "features_df['Timestamp'] =  pd.to_datetime(features_df['Timestamp'])"
      ],
      "metadata": {
        "id": "zn2QdbLvWaSv"
      },
      "execution_count": 11,
      "outputs": []
    },
    {
      "cell_type": "code",
      "source": [
        "features_df.info() "
      ],
      "metadata": {
        "colab": {
          "base_uri": "https://localhost:8080/"
        },
        "id": "p_5MetDPWiA1",
        "outputId": "4b108013-7c30-43ba-b86e-826d278395a8"
      },
      "execution_count": 12,
      "outputs": [
        {
          "output_type": "stream",
          "name": "stdout",
          "text": [
            "<class 'pandas.core.frame.DataFrame'>\n",
            "RangeIndex: 154262 entries, 0 to 154261\n",
            "Data columns (total 77 columns):\n",
            " #   Column                                             Non-Null Count   Dtype         \n",
            "---  ------                                             --------------   -----         \n",
            " 0   Timestamp                                          154262 non-null  datetime64[ns]\n",
            " 1   Gearbox_T1_High_Speed_Shaft_Temperature            149913 non-null  float64       \n",
            " 2   Gearbox_T3_High_Speed_Shaft_Temperature            149744 non-null  float64       \n",
            " 3   Gearbox_T1_Intermediate_Speed_Shaft_Temperature    150253 non-null  float64       \n",
            " 4   Temperature Gearbox Bearing Hollow Shaft           150530 non-null  float64       \n",
            " 5   Tower Acceleration Normal                          149904 non-null  float64       \n",
            " 6   Gearbox_Oil-2_Temperature                          149326 non-null  float64       \n",
            " 7   Tower Acceleration Lateral                         150070 non-null  float64       \n",
            " 8   Temperature Bearing_A                              150113 non-null  float64       \n",
            " 9   Temperature Trafo-3                                149504 non-null  float64       \n",
            " 10  Gearbox_T3_Intermediate_Speed_Shaft_Temperature    149936 non-null  float64       \n",
            " 11  Gearbox_Oil-1_Temperature                          150124 non-null  float64       \n",
            " 12  Gearbox_Oil_Temperature                            149086 non-null  float64       \n",
            " 13  Torque                                             150151 non-null  float64       \n",
            " 14  Converter Control Unit Reactive Power              149753 non-null  float64       \n",
            " 15  Temperature Trafo-2                                149983 non-null  float64       \n",
            " 16  Reactive Power                                     149873 non-null  float64       \n",
            " 17  Temperature Shaft Bearing-1                        149799 non-null  float64       \n",
            " 18  Gearbox_Distributor_Temperature                    150573 non-null  float64       \n",
            " 19  Moment D Filtered                                  149735 non-null  float64       \n",
            " 20  Moment D Direction                                 149031 non-null  float64       \n",
            " 21  N-set 1                                            149661 non-null  float64       \n",
            " 22  Operating State                                    150358 non-null  float64       \n",
            " 23  Power Factor                                       149285 non-null  float64       \n",
            " 24  Temperature Shaft Bearing-2                        150158 non-null  float64       \n",
            " 25  Temperature_Nacelle                                149606 non-null  float64       \n",
            " 26  Voltage A-N                                        149609 non-null  float64       \n",
            " 27  Temperature Axis Box-3                             150773 non-null  float64       \n",
            " 28  Voltage C-N                                        150211 non-null  float64       \n",
            " 29  Temperature Axis Box-2                             149701 non-null  float64       \n",
            " 30  Temperature Axis Box-1                             149997 non-null  float64       \n",
            " 31  Voltage B-N                                        150408 non-null  float64       \n",
            " 32  Nacelle Position_Degree                            149410 non-null  float64       \n",
            " 33  Converter Control Unit Voltage                     149615 non-null  float64       \n",
            " 34  Temperature Battery Box-3                          150404 non-null  float64       \n",
            " 35  Temperature Battery Box-2                          149707 non-null  float64       \n",
            " 36  Temperature Battery Box-1                          150399 non-null  float64       \n",
            " 37  Hydraulic Prepressure                              149865 non-null  float64       \n",
            " 38  Angle Rotor Position                               149463 non-null  float64       \n",
            " 39  Temperature Tower Base                             150535 non-null  float64       \n",
            " 40  Pitch Offset-2 Asymmetric Load Controller          149823 non-null  float64       \n",
            " 41  Pitch Offset Tower Feedback                        149350 non-null  float64       \n",
            " 42  Line Frequency                                     150383 non-null  float64       \n",
            " 43  Internal Power Limit                               150080 non-null  float64       \n",
            " 44  Circuit Breaker cut-ins                            150670 non-null  float64       \n",
            " 45  Particle Counter                                   149612 non-null  float64       \n",
            " 46  Tower Accelaration Normal Raw                      149532 non-null  float64       \n",
            " 47  Torque Offset Tower Feedback                       149977 non-null  float64       \n",
            " 48  External Power Limit                               149826 non-null  float64       \n",
            " 49  Blade-2 Actual Value_Angle-B                       149967 non-null  float64       \n",
            " 50  Blade-1 Actual Value_Angle-B                       149922 non-null  float64       \n",
            " 51  Blade-3 Actual Value_Angle-B                       149690 non-null  float64       \n",
            " 52  Temperature Heat Exchanger Converter Control Unit  149076 non-null  float64       \n",
            " 53  Tower Accelaration Lateral Raw                     149828 non-null  float64       \n",
            " 54  Temperature Ambient                                150172 non-null  float64       \n",
            " 55  Nacelle Revolution                                 149772 non-null  float64       \n",
            " 56  Pitch Offset-1 Asymmetric Load Controller          149239 non-null  float64       \n",
            " 57  Tower Deflection                                   149662 non-null  float64       \n",
            " 58  Pitch Offset-3 Asymmetric Load Controller          149729 non-null  float64       \n",
            " 59  Wind Deviation 1 seconds                           149830 non-null  float64       \n",
            " 60  Wind Deviation 10 seconds                          149130 non-null  float64       \n",
            " 61  Proxy Sensor_Degree-135                            148925 non-null  float64       \n",
            " 62  State and Fault                                    150238 non-null  float64       \n",
            " 63  Proxy Sensor_Degree-225                            149432 non-null  float64       \n",
            " 64  Blade-3 Actual Value_Angle-A                       149439 non-null  float64       \n",
            " 65  Scope CH 4                                         149786 non-null  float64       \n",
            " 66  Blade-2 Actual Value_Angle-A                       150291 non-null  float64       \n",
            " 67  Blade-1 Actual Value_Angle-A                       149468 non-null  float64       \n",
            " 68  Blade-2 Set Value_Degree                           149831 non-null  float64       \n",
            " 69  Pitch Demand Baseline_Degree                       149074 non-null  float64       \n",
            " 70  Blade-1 Set Value_Degree                           148756 non-null  float64       \n",
            " 71  Blade-3 Set Value_Degree                           149440 non-null  float64       \n",
            " 72  Moment Q Direction                                 149414 non-null  float64       \n",
            " 73  Moment Q Filltered                                 149102 non-null  float64       \n",
            " 74  Proxy Sensor_Degree-45                             150190 non-null  float64       \n",
            " 75  Turbine State                                      150054 non-null  float64       \n",
            " 76  Proxy Sensor_Degree-315                            149438 non-null  float64       \n",
            "dtypes: datetime64[ns](1), float64(76)\n",
            "memory usage: 90.6 MB\n"
          ]
        }
      ]
    },
    {
      "cell_type": "markdown",
      "source": [
        "Many of the existing features are inherently related to the output of electrical generation, so they do not affect the work of the turbine in some way or do not enter into the state of production based on the turbine.\n",
        "like : Moment Q Direction ,Line Frequency, Reactive Power ,Voltage B-N"
      ],
      "metadata": {
        "id": "2BsPWt-KjVaO"
      }
    },
    {
      "cell_type": "markdown",
      "source": [
        "There are also some missing values, not many, but we can deal with them through the mean"
      ],
      "metadata": {
        "id": "liRmpPE9kpFn"
      }
    },
    {
      "cell_type": "code",
      "source": [
        "# NULLS \n",
        "for i in range(1,len(features_df.columns)) : \n",
        "      features_df[features_df.columns[i]].fillna(features_df[features_df.columns[i]].mean(),inplace = True )\n",
        "features_df.isna().sum()  "
      ],
      "metadata": {
        "colab": {
          "base_uri": "https://localhost:8080/"
        },
        "id": "NaiUC0HKWmos",
        "outputId": "d7204a36-f543-4e50-aeb3-dda03ac1692c"
      },
      "execution_count": 13,
      "outputs": [
        {
          "output_type": "execute_result",
          "data": {
            "text/plain": [
              "Timestamp                                          0\n",
              "Gearbox_T1_High_Speed_Shaft_Temperature            0\n",
              "Gearbox_T3_High_Speed_Shaft_Temperature            0\n",
              "Gearbox_T1_Intermediate_Speed_Shaft_Temperature    0\n",
              "Temperature Gearbox Bearing Hollow Shaft           0\n",
              "                                                  ..\n",
              "Moment Q Direction                                 0\n",
              "Moment Q Filltered                                 0\n",
              "Proxy Sensor_Degree-45                             0\n",
              "Turbine State                                      0\n",
              "Proxy Sensor_Degree-315                            0\n",
              "Length: 77, dtype: int64"
            ]
          },
          "metadata": {},
          "execution_count": 13
        }
      ]
    },
    {
      "cell_type": "code",
      "source": [
        "features_df['Power(kW)'] = df['Power(kW)'] # ADD POWER "
      ],
      "metadata": {
        "id": "E_hIAM4JWrwG"
      },
      "execution_count": 14,
      "outputs": []
    },
    {
      "cell_type": "code",
      "source": [
        "features_df.columns"
      ],
      "metadata": {
        "colab": {
          "base_uri": "https://localhost:8080/"
        },
        "id": "Z3eckWYvWvjK",
        "outputId": "47e23dec-0728-486f-da5d-b56f55d28c75"
      },
      "execution_count": 15,
      "outputs": [
        {
          "output_type": "execute_result",
          "data": {
            "text/plain": [
              "Index(['Timestamp', 'Gearbox_T1_High_Speed_Shaft_Temperature',\n",
              "       'Gearbox_T3_High_Speed_Shaft_Temperature',\n",
              "       'Gearbox_T1_Intermediate_Speed_Shaft_Temperature',\n",
              "       'Temperature Gearbox Bearing Hollow Shaft', 'Tower Acceleration Normal',\n",
              "       'Gearbox_Oil-2_Temperature', 'Tower Acceleration Lateral',\n",
              "       'Temperature Bearing_A', 'Temperature Trafo-3',\n",
              "       'Gearbox_T3_Intermediate_Speed_Shaft_Temperature',\n",
              "       'Gearbox_Oil-1_Temperature', 'Gearbox_Oil_Temperature', 'Torque',\n",
              "       'Converter Control Unit Reactive Power', 'Temperature Trafo-2',\n",
              "       'Reactive Power', 'Temperature Shaft Bearing-1',\n",
              "       'Gearbox_Distributor_Temperature', 'Moment D Filtered',\n",
              "       'Moment D Direction', 'N-set 1', 'Operating State', 'Power Factor',\n",
              "       'Temperature Shaft Bearing-2', 'Temperature_Nacelle', 'Voltage A-N',\n",
              "       'Temperature Axis Box-3', 'Voltage C-N', 'Temperature Axis Box-2',\n",
              "       'Temperature Axis Box-1', 'Voltage B-N', 'Nacelle Position_Degree',\n",
              "       'Converter Control Unit Voltage', 'Temperature Battery Box-3',\n",
              "       'Temperature Battery Box-2', 'Temperature Battery Box-1',\n",
              "       'Hydraulic Prepressure', 'Angle Rotor Position',\n",
              "       'Temperature Tower Base', 'Pitch Offset-2 Asymmetric Load Controller',\n",
              "       'Pitch Offset Tower Feedback', 'Line Frequency', 'Internal Power Limit',\n",
              "       'Circuit Breaker cut-ins', 'Particle Counter',\n",
              "       'Tower Accelaration Normal Raw', 'Torque Offset Tower Feedback',\n",
              "       'External Power Limit', 'Blade-2 Actual Value_Angle-B',\n",
              "       'Blade-1 Actual Value_Angle-B', 'Blade-3 Actual Value_Angle-B',\n",
              "       'Temperature Heat Exchanger Converter Control Unit',\n",
              "       'Tower Accelaration Lateral Raw', 'Temperature Ambient',\n",
              "       'Nacelle Revolution', 'Pitch Offset-1 Asymmetric Load Controller',\n",
              "       'Tower Deflection', 'Pitch Offset-3 Asymmetric Load Controller',\n",
              "       'Wind Deviation 1 seconds', 'Wind Deviation 10 seconds',\n",
              "       'Proxy Sensor_Degree-135', 'State and Fault', 'Proxy Sensor_Degree-225',\n",
              "       'Blade-3 Actual Value_Angle-A', 'Scope CH 4',\n",
              "       'Blade-2 Actual Value_Angle-A', 'Blade-1 Actual Value_Angle-A',\n",
              "       'Blade-2 Set Value_Degree', 'Pitch Demand Baseline_Degree',\n",
              "       'Blade-1 Set Value_Degree', 'Blade-3 Set Value_Degree',\n",
              "       'Moment Q Direction', 'Moment Q Filltered', 'Proxy Sensor_Degree-45',\n",
              "       'Turbine State', 'Proxy Sensor_Degree-315', 'Power(kW)'],\n",
              "      dtype='object')"
            ]
          },
          "metadata": {},
          "execution_count": 15
        }
      ]
    },
    {
      "cell_type": "code",
      "source": [
        "col = [ 'Gearbox_T1_High_Speed_Shaft_Temperature',\n",
        "       'Gearbox_T3_High_Speed_Shaft_Temperature',\n",
        "       'Gearbox_T1_Intermediate_Speed_Shaft_Temperature',\n",
        "       'Temperature Gearbox Bearing Hollow Shaft', 'Tower Acceleration Normal',\n",
        "       'Gearbox_Oil-2_Temperature', 'Tower Acceleration Lateral',\n",
        "       'Temperature Bearing_A', 'Temperature Trafo-3',\n",
        "       'Gearbox_T3_Intermediate_Speed_Shaft_Temperature',\n",
        "       'Gearbox_Oil-1_Temperature', 'Gearbox_Oil_Temperature', 'Torque',\n",
        "       'Converter Control Unit Reactive Power', 'Temperature Trafo-2',\n",
        "       'Reactive Power', 'Temperature Shaft Bearing-1',\n",
        "       'Gearbox_Distributor_Temperature', 'Moment D Filtered',\n",
        "       'Moment D Direction', 'N-set 1', 'Operating State', 'Power Factor',\n",
        "       'Temperature Shaft Bearing-2', 'Temperature_Nacelle', 'Voltage A-N',\n",
        "       'Temperature Axis Box-3', 'Voltage C-N', 'Temperature Axis Box-2',\n",
        "       'Temperature Axis Box-1', 'Voltage B-N', 'Nacelle Position_Degree',\n",
        "       'Converter Control Unit Voltage', 'Temperature Battery Box-3',\n",
        "       'Temperature Battery Box-2', 'Temperature Battery Box-1',\n",
        "       'Hydraulic Prepressure', 'Angle Rotor Position',\n",
        "       'Temperature Tower Base', 'Pitch Offset-2 Asymmetric Load Controller',\n",
        "       'Pitch Offset Tower Feedback', 'Line Frequency', 'Internal Power Limit',\n",
        "       'Circuit Breaker cut-ins', 'Particle Counter',\n",
        "       'Tower Accelaration Normal Raw', 'Torque Offset Tower Feedback',\n",
        "       'External Power Limit', 'Blade-2 Actual Value_Angle-B',\n",
        "       'Blade-1 Actual Value_Angle-B', 'Blade-3 Actual Value_Angle-B',\n",
        "       'Temperature Heat Exchanger Converter Control Unit',\n",
        "       'Tower Accelaration Lateral Raw', 'Temperature Ambient',\n",
        "       'Nacelle Revolution', 'Pitch Offset-1 Asymmetric Load Controller',\n",
        "       'Tower Deflection', 'Pitch Offset-3 Asymmetric Load Controller',\n",
        "       'Wind Deviation 1 seconds', 'Wind Deviation 10 seconds',\n",
        "       'Proxy Sensor_Degree-135', 'State and Fault', 'Proxy Sensor_Degree-225',\n",
        "       'Blade-3 Actual Value_Angle-A', 'Scope CH 4',\n",
        "       'Blade-2 Actual Value_Angle-A', 'Blade-1 Actual Value_Angle-A',\n",
        "       'Blade-2 Set Value_Degree', 'Pitch Demand Baseline_Degree',\n",
        "       'Blade-1 Set Value_Degree', 'Blade-3 Set Value_Degree',\n",
        "       'Moment Q Direction', 'Moment Q Filltered', 'Proxy Sensor_Degree-45',\n",
        "       'Turbine State', 'Proxy Sensor_Degree-315']"
      ],
      "metadata": {
        "id": "-slJ2fqDX5_b"
      },
      "execution_count": 16,
      "outputs": []
    },
    {
      "cell_type": "code",
      "source": [
        "plt.figure(figsize=(30,8))\n",
        "\n",
        "Gearbox_2019=features_df[[ 'Gearbox_T1_High_Speed_Shaft_Temperature',\n",
        "       'Gearbox_T3_High_Speed_Shaft_Temperature',\n",
        "       'Gearbox_T1_Intermediate_Speed_Shaft_Temperature',\n",
        "       'Temperature Gearbox Bearing Hollow Shaft', 'Tower Acceleration Normal',\n",
        "       'Gearbox_Oil-2_Temperature', 'Tower Acceleration Lateral',\n",
        "       'Temperature Bearing_A', 'Temperature Trafo-3',\n",
        "       'Gearbox_T3_Intermediate_Speed_Shaft_Temperature',\n",
        "       'Gearbox_Oil-1_Temperature', 'Gearbox_Oil_Temperature','Gearbox_Distributor_Temperature']]\n",
        "Gearbox_2019.boxplot() "
      ],
      "metadata": {
        "colab": {
          "base_uri": "https://localhost:8080/",
          "height": 411
        },
        "id": "fuVTOQMpk9tU",
        "outputId": "1cb55e85-3817-4e0c-c787-393dda779142"
      },
      "execution_count": 17,
      "outputs": [
        {
          "output_type": "execute_result",
          "data": {
            "text/plain": [
              "<matplotlib.axes._subplots.AxesSubplot at 0x7f7e3615cdd0>"
            ]
          },
          "metadata": {},
          "execution_count": 17
        },
        {
          "output_type": "display_data",
          "data": {
            "text/plain": [
              "<Figure size 2160x576 with 1 Axes>"
            ],
            "image/png": "[encoded data removed]"
          },
          "metadata": {
            "needs_background": "light"
          }
        }
      ]
    },
    {
      "cell_type": "markdown",
      "source": [
        "Here we dealt with some outliers in the important characteristics affecting the turbine working cycle through the mean compensation"
      ],
      "metadata": {
        "id": "7hriTi0KlUQo"
      }
    },
    {
      "cell_type": "code",
      "source": [
        "def handling_outliers(orignal_df,lst_of_columns) :\n",
        "    for i in lst_of_columns:\n",
        "        q1 = orignal_df[i].quantile(0.25)\n",
        "        q3 = orignal_df[i].quantile(0.75)\n",
        "        iqr = q3 - q1\n",
        "        lower_bound = q1 -(1.5 * iqr) \n",
        "        upper_bound = q3 +(1.5 * iqr)\n",
        "        for col in range(0,orignal_df.shape[0]):\n",
        "            if orignal_df[i][col] < lower_bound :\n",
        "                orignal_df[i][col]  = orignal_df[i].mean()\n",
        "            elif orignal_df[i][col] > upper_bound :\n",
        "                orignal_df[i][col]  = orignal_df[i].mean()\n",
        "            else:\n",
        "                continue \n",
        "    print(\"handling is done\")"
      ],
      "metadata": {
        "id": "y11QWMkQXS--"
      },
      "execution_count": 18,
      "outputs": []
    },
    {
      "cell_type": "code",
      "source": [
        "handling_outliers(features_df,col)"
      ],
      "metadata": {
        "colab": {
          "base_uri": "https://localhost:8080/"
        },
        "id": "HZfH1ZuUX5PA",
        "outputId": "31efa349-f146-4e4a-a64c-4837039b48df"
      },
      "execution_count": null,
      "outputs": [
        {
          "output_type": "stream",
          "name": "stderr",
          "text": [
            "/usr/local/lib/python3.7/dist-packages/ipykernel_launcher.py:12: SettingWithCopyWarning: \n",
            "A value is trying to be set on a copy of a slice from a DataFrame\n",
            "\n",
            "See the caveats in the documentation: https://pandas.pydata.org/pandas-docs/stable/user_guide/indexing.html#returning-a-view-versus-a-copy\n",
            "  if sys.path[0] == '':\n",
            "/usr/local/lib/python3.7/dist-packages/ipykernel_launcher.py:10: SettingWithCopyWarning: \n",
            "A value is trying to be set on a copy of a slice from a DataFrame\n",
            "\n",
            "See the caveats in the documentation: https://pandas.pydata.org/pandas-docs/stable/user_guide/indexing.html#returning-a-view-versus-a-copy\n",
            "  # Remove the CWD from sys.path while we load stuff.\n"
          ]
        }
      ]
    },
    {
      "cell_type": "markdown",
      "source": [
        "# 2019 Analysis :"
      ],
      "metadata": {
        "id": "qZPY-Qpeln2G"
      }
    },
    {
      "cell_type": "markdown",
      "source": [
        "In 2019 there are 6 * 24 * 365 which is 52123 reading points"
      ],
      "metadata": {
        "id": "XsL25ceBlx31"
      }
    },
    {
      "cell_type": "markdown",
      "source": [
        "It requires us to expect the rest of 2021, which means four months, within 17532 points "
      ],
      "metadata": {
        "id": "d0c3dqPenkaP"
      }
    },
    {
      "cell_type": "code",
      "source": [
        "round = 17532\n",
        "year = 52123"
      ],
      "metadata": {
        "id": "qKRcbWbUYO_L"
      },
      "execution_count": null,
      "outputs": []
    },
    {
      "cell_type": "code",
      "source": [
        "# 2019\n",
        "df_Power_2019=features_df.iloc[0:52123,:]\n",
        "df_Power_2019['Timestamp'].tail()"
      ],
      "metadata": {
        "id": "bqKFFOpoc328"
      },
      "execution_count": null,
      "outputs": []
    },
    {
      "cell_type": "code",
      "source": [
        "df_Power_2019.reset_index(drop = True,inplace = True)\n",
        "df_Power_2019.set_index('Timestamp',inplace = True)"
      ],
      "metadata": {
        "id": "rs0pAJESc-b-"
      },
      "execution_count": null,
      "outputs": []
    },
    {
      "cell_type": "code",
      "source": [
        "Gearbox_2019.corr()     "
      ],
      "metadata": {
        "id": "0U8dsNJ4gU1m"
      },
      "execution_count": null,
      "outputs": []
    },
    {
      "cell_type": "markdown",
      "source": [
        "All the features related to the Jarbox are very affected by each other and related to each other through what appears to us, so we can deal with the most feature affecting them in the analysis"
      ],
      "metadata": {
        "id": "l7MUhmK4nw-R"
      }
    },
    {
      "cell_type": "code",
      "source": [
        "plt.figure(figsize=(30,8))\n",
        "plt.plot(df_Power_2019[['Power(kW)']])"
      ],
      "metadata": {
        "id": "Foz9Yee_dRyM"
      },
      "execution_count": null,
      "outputs": []
    },
    {
      "cell_type": "markdown",
      "source": [
        "Energy productivity is not trendy, but it is seasonal I think, productivity increases in the summer and decreases in the middle of spring and winter"
      ],
      "metadata": {
        "id": "5KDS7SdMoMRC"
      }
    },
    {
      "cell_type": "code",
      "source": [
        "plt.figure(figsize=(20,8))\n",
        "plt.plot(df_Power_2019[['Power(kW)']][:round])"
      ],
      "metadata": {
        "id": "U9wv3MSieMQ7"
      },
      "execution_count": null,
      "outputs": []
    },
    {
      "cell_type": "markdown",
      "source": [
        "As we can see at the beginning of the year and winter, productivity is a bit low"
      ],
      "metadata": {
        "id": "wN57OK2LoqDD"
      }
    },
    {
      "cell_type": "code",
      "source": [
        "plt.figure(figsize=(20,8))\n",
        "plt.plot(df_Power_2019[['Power(kW)']][round:round*2])"
      ],
      "metadata": {
        "id": "4qnS9Vr6eSQh"
      },
      "execution_count": null,
      "outputs": []
    },
    {
      "cell_type": "markdown",
      "source": [
        "At the end of spring and summer, the productivity of the turbines increases"
      ],
      "metadata": {
        "id": "zF9IEnTRozux"
      }
    },
    {
      "cell_type": "code",
      "source": [
        "plt.figure(figsize=(20,8))\n",
        "plt.plot(df_Power_2019[['Power(kW)']][round*2:round*3])"
      ],
      "metadata": {
        "id": "A50qAQqHeVhA"
      },
      "execution_count": null,
      "outputs": []
    },
    {
      "cell_type": "markdown",
      "source": [
        "At the end of the year and the onset of winter, the production rate decreases, and the turbines are not in their best condition"
      ],
      "metadata": {
        "id": "zgGsOyEIo8sp"
      }
    },
    {
      "cell_type": "code",
      "source": [
        "plt.figure(figsize=(30,8))\n",
        "plt.plot(df_Power_2019[['Power(kW)']][:round])\n",
        "plt.plot(df_Power_2019[['Power(kW)']][round:round*2])\n",
        "plt.plot(df_Power_2019[['Power(kW)']][round*2:round*3])"
      ],
      "metadata": {
        "id": "CpzS7D7neX-8"
      },
      "execution_count": null,
      "outputs": []
    },
    {
      "cell_type": "markdown",
      "source": [
        "This illustration is very placed between seasons in production"
      ],
      "metadata": {
        "id": "_4da7dXnpNvr"
      }
    },
    {
      "cell_type": "code",
      "source": [
        "plt.figure(figsize=(20,8))\n",
        "plt.plot(df_Power_2019[['Gearbox_Distributor_Temperature']])"
      ],
      "metadata": {
        "id": "R_zjsXn7fk4E"
      },
      "execution_count": null,
      "outputs": []
    },
    {
      "cell_type": "markdown",
      "source": [
        "We moved to what is related to the turbine itself. The gearbox is declining in temperature with the year, but it is in a state of relative stability, and accordingly, on the same line, all the characteristics of the gearbox are affected."
      ],
      "metadata": {
        "id": "H2svEMRtpTIC"
      }
    },
    {
      "cell_type": "code",
      "source": [
        "plt.figure(figsize=(20,8))\n",
        "plt.plot(df_Power_2019[['Power(kW)']][:round])\n",
        "plt.plot(df_Power_2019[['Gearbox_Distributor_Temperature']][:round])"
      ],
      "metadata": {
        "id": "-b4cU2-tflrk"
      },
      "execution_count": null,
      "outputs": []
    },
    {
      "cell_type": "markdown",
      "source": [
        "The increase in the general temperature of the gearbox significantly affects the productivity of the turbines"
      ],
      "metadata": {
        "id": "Jqx8vpCqpw8P"
      }
    },
    {
      "cell_type": "code",
      "source": [
        "plt.figure(figsize=(20,8))\n",
        "plt.plot(df_Power_2019[['Power(kW)']])\n",
        "plt.plot(df_Power_2019[['Gearbox_Distributor_Temperature']])"
      ],
      "metadata": {
        "id": "vu3kzfi_fn-C"
      },
      "execution_count": null,
      "outputs": []
    },
    {
      "cell_type": "code",
      "source": [],
      "metadata": {
        "id": "JxxFvVv8frvi"
      },
      "execution_count": null,
      "outputs": []
    },
    {
      "cell_type": "code",
      "source": [
        "plt.figure(figsize=(20,8))\n",
        "plt.plot(df_Power_2019[['Hydraulic Prepressure']])"
      ],
      "metadata": {
        "id": "7X29S8Lqfwf8"
      },
      "execution_count": null,
      "outputs": []
    },
    {
      "cell_type": "markdown",
      "source": [
        "Hydraulic pressure also remains relatively constant but declines throughout the year"
      ],
      "metadata": {
        "id": "sNDywc7Gp-ob"
      }
    },
    {
      "cell_type": "code",
      "source": [
        "plt.figure(figsize=(20,8))\n",
        "plt.plot(df_Power_2019[['Power(kW)']][:round])\n",
        "plt.plot(df_Power_2019[['Hydraulic Prepressure']][:round])"
      ],
      "metadata": {
        "id": "Ou0evRDtfxOT"
      },
      "execution_count": null,
      "outputs": []
    },
    {
      "cell_type": "code",
      "source": [
        "plt.figure(figsize=(20,8))\n",
        "plt.plot(df_Power_2019[['Power(kW)']])\n",
        "plt.plot(df_Power_2019[['Hydraulic Prepressure']])"
      ],
      "metadata": {
        "id": "loZdHVtkf0Hm"
      },
      "execution_count": null,
      "outputs": []
    },
    {
      "cell_type": "markdown",
      "source": [
        "It seems that the increase in hydraulic pressure also affects the production in some way"
      ],
      "metadata": {
        "id": "1Bob6MfgqY5A"
      }
    },
    {
      "cell_type": "code",
      "source": [],
      "metadata": {
        "id": "n9PEUAjYf3c6"
      },
      "execution_count": null,
      "outputs": []
    },
    {
      "cell_type": "code",
      "source": [
        "plt.figure(figsize=(20,8))\n",
        "plt.plot(df_Power_2019[['Torque']])"
      ],
      "metadata": {
        "id": "psXdBi_If4_O"
      },
      "execution_count": null,
      "outputs": []
    },
    {
      "cell_type": "markdown",
      "source": [
        "Here is the torque, which is the main display of wind strength, and it seems to be seasonal as well"
      ],
      "metadata": {
        "id": "x4-yhxPGqov1"
      }
    },
    {
      "cell_type": "code",
      "source": [
        "plt.figure(figsize=(20,8))\n",
        "plt.plot(df_Power_2019[['Power(kW)']][:round])\n",
        "plt.plot(df_Power_2019[['Torque']][:round])"
      ],
      "metadata": {
        "id": "gznBzttDf461"
      },
      "execution_count": null,
      "outputs": []
    },
    {
      "cell_type": "markdown",
      "source": [
        "Contrary to what is expected, the increase in torque does not mean that it increases the productivity of the turbines, perhaps a wrong wind direction, or that the turbines need a certain degree of rotation to reach the best result."
      ],
      "metadata": {
        "id": "Ei-Pggdkq2fw"
      }
    },
    {
      "cell_type": "code",
      "source": [
        "plt.figure(figsize=(20,8))\n",
        "plt.plot(df_Power_2019[['Power(kW)']])\n",
        "plt.plot(df_Power_2019[['Torque']])"
      ],
      "metadata": {
        "id": "750VOlNlf421"
      },
      "execution_count": null,
      "outputs": []
    },
    {
      "cell_type": "markdown",
      "source": [
        "We note here that the torque appears to increase continuously throughout the year.. but it does not have the first role in increasing productivity"
      ],
      "metadata": {
        "id": "Tq2pM5XTrReW"
      }
    },
    {
      "cell_type": "code",
      "source": [
        "plt.figure(figsize=(20,8))\n",
        "plt.plot(df_Power_2019[['Tower Accelaration Lateral Raw']])"
      ],
      "metadata": {
        "id": "OS-wIH1Cf4ya"
      },
      "execution_count": null,
      "outputs": []
    },
    {
      "cell_type": "markdown",
      "source": [
        "Tower Accelaration Lateral Raw Stable throughout the year and does not significantly affect productivity"
      ],
      "metadata": {
        "id": "jet5e_7dtntd"
      }
    },
    {
      "cell_type": "code",
      "source": [],
      "metadata": {
        "id": "iEhth1SqsR3R"
      },
      "execution_count": null,
      "outputs": []
    },
    {
      "cell_type": "code",
      "source": [
        "plt.figure(figsize=(20,8))\n",
        "plt.plot(df_Power_2019[['Power(kW)']][:round])\n",
        "plt.plot(df_Power_2019[['Tower Accelaration Lateral Raw']][:round])"
      ],
      "metadata": {
        "id": "k9_PnbiYgDHA"
      },
      "execution_count": null,
      "outputs": []
    },
    {
      "cell_type": "markdown",
      "source": [
        "Note that sometimes that Tower Accelaration Lateral Raw Increasing it increases productivity at exactly the same time"
      ],
      "metadata": {
        "id": "Bl5tU0ZjugSe"
      }
    },
    {
      "cell_type": "code",
      "source": [
        "# 2020\n",
        "df_Power_2020=features_df.iloc[52123:52123*2 + 188,:]\n",
        "df_Power_2020['Timestamp'].tail()\n"
      ],
      "metadata": {
        "id": "3OMIeexlxLP7"
      },
      "execution_count": null,
      "outputs": []
    },
    {
      "cell_type": "code",
      "source": [
        "df_Power_2020.reset_index(drop = True,inplace = True)\n",
        "df_Power_2020.set_index('Timestamp',inplace = True)"
      ],
      "metadata": {
        "id": "lLC5kwC1yCUf"
      },
      "execution_count": null,
      "outputs": []
    },
    {
      "cell_type": "code",
      "source": [
        "plt.figure(figsize=(30,8))\n",
        "plt.plot(df_Power_2019['Power(kW)'])\n",
        "plt.plot(df_Power_2020['Power(kW)'])"
      ],
      "metadata": {
        "id": "p0JeqsTEgKJS"
      },
      "execution_count": null,
      "outputs": []
    },
    {
      "cell_type": "markdown",
      "source": [
        "It becomes clear to us that there is seasonality in 2020 as well as 2019, and that productivity increases in the half year and summer period at a higher rate than the rest of the year"
      ],
      "metadata": {
        "id": "a4BlqF8uysjm"
      }
    },
    {
      "cell_type": "code",
      "source": [
        "plt.figure(figsize=(30,8))\n",
        "plt.plot(df_Power_2019['Torque'])\n",
        "plt.plot(df_Power_2020['Torque'])"
      ],
      "metadata": {
        "id": "2aaI72jTwcuL"
      },
      "execution_count": null,
      "outputs": []
    },
    {
      "cell_type": "code",
      "source": [
        "plt.figure(figsize=(30,8))\n",
        "plt.plot(df_Power_2019['Gearbox_Distributor_Temperature'])\n",
        "plt.plot(df_Power_2020['Gearbox_Distributor_Temperature'])"
      ],
      "metadata": {
        "id": "Zlw2IlCwzEQB"
      },
      "execution_count": null,
      "outputs": []
    },
    {
      "cell_type": "code",
      "source": [
        "df_Power_2021=features_df.iloc[52123*2 + 188:136729,:]\n",
        "df_Power_2021['Timestamp'].tail()\n"
      ],
      "metadata": {
        "id": "rJ4oVKluzWjD"
      },
      "execution_count": null,
      "outputs": []
    },
    {
      "cell_type": "code",
      "source": [
        "df_Power_2021.reset_index(drop = True,inplace = True)\n",
        "df_Power_2021.set_index('Timestamp',inplace = True)"
      ],
      "metadata": {
        "id": "VdjPc2M50Juy"
      },
      "execution_count": null,
      "outputs": []
    },
    {
      "cell_type": "code",
      "source": [
        "plt.figure(figsize=(40,8))\n",
        "plt.plot(df_Power_2019['Power(kW)'])\n",
        "plt.plot(df_Power_2020['Power(kW)'])\n",
        "plt.plot(df_Power_2021['Power(kW)'])"
      ],
      "metadata": {
        "id": "oYiXITxezihy"
      },
      "execution_count": null,
      "outputs": []
    },
    {
      "cell_type": "code",
      "source": [
        "plt.figure(figsize=(30,8))\n",
        "plt.plot(df_Power_2019['Torque'])\n",
        "plt.plot(df_Power_2020['Torque'])\n",
        "plt.plot(df_Power_2021['Torque'])"
      ],
      "metadata": {
        "id": "2f1pv5uG0AgM"
      },
      "execution_count": null,
      "outputs": []
    },
    {
      "cell_type": "code",
      "source": [
        "plt.figure(figsize=(30,8))\n",
        "plt.plot(df_Power_2019['Gearbox_Distributor_Temperature'])\n",
        "plt.plot(df_Power_2020['Gearbox_Distributor_Temperature'])\n",
        "plt.plot(df_Power_2021['Gearbox_Distributor_Temperature'])"
      ],
      "metadata": {
        "id": "ZhoGpX450ZBu"
      },
      "execution_count": null,
      "outputs": []
    },
    {
      "cell_type": "markdown",
      "source": [
        "# Notes:\n",
        "1. Seasonality persists over seasons and years in the same turbine capacity to produce consistently with little change\n",
        "2. Some of the features affecting the work of the turbine are affected by a decrease with time, and this is what makes the change clear, although it is small\n",
        "3. Perhaps in this way, there is no monitoring of the work of the turbines and no periodic maintenance because the change increases with the increase of years\n",
        "4. Despite the difference in energy productivity at the level of seasons, it is not trendy or irregular.. the data is running smooth and clear\n",
        "5. Despite the difference in energy productivity at the level of seasons, it is not trendy or irregular.. the data is running smooth and clear\n",
        "6. I think that we can make a selection of the features, because there are some features that depend on each other in a purely way, what is any multiplication or the like .. or related to it in another way\n"
      ],
      "metadata": {
        "id": "PtSyAGKG0l3-"
      }
    },
    {
      "cell_type": "markdown",
      "source": [
        "# Work on average daily Power"
      ],
      "metadata": {
        "id": "-zRIEvihUsTv"
      }
    },
    {
      "cell_type": "code",
      "source": [
        "'2021-08-14 23:50:00'\n",
        "features_df['Timestamp'][0]"
      ],
      "metadata": {
        "id": "iwpF0K8gXWJf"
      },
      "execution_count": null,
      "outputs": []
    },
    {
      "cell_type": "code",
      "source": [
        "features_df['Timestamp_str']= features_df['Timestamp'].astype(str)\n"
      ],
      "metadata": {
        "id": "Ydl1vg2uaDYQ"
      },
      "execution_count": null,
      "outputs": []
    },
    {
      "cell_type": "code",
      "source": [
        "new_f = [str(value.split(' ')[0]) for value in features_df['Timestamp_str']]\n",
        "new_f"
      ],
      "metadata": {
        "id": "f5UWOxLi0gRW"
      },
      "execution_count": null,
      "outputs": []
    },
    {
      "cell_type": "code",
      "source": [
        "features_df['Daily_Timestamp'] =  pd.to_datetime(new_f)"
      ],
      "metadata": {
        "id": "3gJOUWPpZ-zI"
      },
      "execution_count": null,
      "outputs": []
    },
    {
      "cell_type": "code",
      "source": [
        "features_df[['Timestamp','Daily_Timestamp']][280:290]"
      ],
      "metadata": {
        "id": "FIsylOkFbBha"
      },
      "execution_count": null,
      "outputs": []
    },
    {
      "cell_type": "code",
      "source": [
        "days = features_df['Daily_Timestamp'].unique()"
      ],
      "metadata": {
        "id": "VCoimsf9b9Dw"
      },
      "execution_count": null,
      "outputs": []
    },
    {
      "cell_type": "code",
      "source": [
        "cols = ['Gearbox_T1_High_Speed_Shaft_Temperature',\n",
        "       'Gearbox_T3_High_Speed_Shaft_Temperature',\n",
        "       'Gearbox_T1_Intermediate_Speed_Shaft_Temperature',\n",
        "       'Temperature Gearbox Bearing Hollow Shaft', 'Tower Acceleration Normal',\n",
        "       'Gearbox_Oil-2_Temperature', 'Tower Acceleration Lateral',\n",
        "       'Temperature Bearing_A', 'Temperature Trafo-3',\n",
        "       'Gearbox_T3_Intermediate_Speed_Shaft_Temperature',\n",
        "       'Gearbox_Oil-1_Temperature', 'Gearbox_Oil_Temperature', 'Torque',\n",
        "       'Converter Control Unit Reactive Power', 'Temperature Trafo-2',\n",
        "       'Reactive Power', 'Temperature Shaft Bearing-1',\n",
        "       'Gearbox_Distributor_Temperature', 'Moment D Filtered',\n",
        "       'Moment D Direction', 'N-set 1', 'Operating State', 'Power Factor',\n",
        "       'Temperature Shaft Bearing-2', 'Temperature_Nacelle', 'Voltage A-N',\n",
        "       'Temperature Axis Box-3', 'Voltage C-N', 'Temperature Axis Box-2',\n",
        "       'Temperature Axis Box-1', 'Voltage B-N', 'Nacelle Position_Degree',\n",
        "       'Converter Control Unit Voltage', 'Temperature Battery Box-3',\n",
        "       'Temperature Battery Box-2', 'Temperature Battery Box-1',\n",
        "       'Hydraulic Prepressure', 'Angle Rotor Position',\n",
        "       'Temperature Tower Base', 'Pitch Offset-2 Asymmetric Load Controller',\n",
        "       'Pitch Offset Tower Feedback', 'Line Frequency', 'Internal Power Limit',\n",
        "       'Circuit Breaker cut-ins', 'Particle Counter',\n",
        "       'Tower Accelaration Normal Raw', 'Torque Offset Tower Feedback',\n",
        "       'External Power Limit', 'Blade-2 Actual Value_Angle-B',\n",
        "       'Blade-1 Actual Value_Angle-B', 'Blade-3 Actual Value_Angle-B',\n",
        "       'Temperature Heat Exchanger Converter Control Unit',\n",
        "       'Tower Accelaration Lateral Raw', 'Temperature Ambient',\n",
        "       'Nacelle Revolution', 'Pitch Offset-1 Asymmetric Load Controller',\n",
        "       'Tower Deflection', 'Pitch Offset-3 Asymmetric Load Controller',\n",
        "       'Wind Deviation 1 seconds', 'Wind Deviation 10 seconds',\n",
        "       'Proxy Sensor_Degree-135', 'State and Fault', 'Proxy Sensor_Degree-225',\n",
        "       'Blade-3 Actual Value_Angle-A', 'Scope CH 4',\n",
        "       'Blade-2 Actual Value_Angle-A', 'Blade-1 Actual Value_Angle-A',\n",
        "       'Blade-2 Set Value_Degree', 'Pitch Demand Baseline_Degree',\n",
        "       'Blade-1 Set Value_Degree', 'Blade-3 Set Value_Degree',\n",
        "       'Moment Q Direction', 'Moment Q Filltered', 'Proxy Sensor_Degree-45',\n",
        "       'Turbine State', 'Proxy Sensor_Degree-315', 'Power(kW)',]"
      ],
      "metadata": {
        "id": "croyThcyd9mm"
      },
      "execution_count": null,
      "outputs": []
    },
    {
      "cell_type": "code",
      "source": [
        "df_av = pd.DataFrame(columns = features_df.columns)\n",
        "#df_av.reset_index(inplace = True)\n",
        "df_av.drop(columns = ['Timestamp_str','Daily_Timestamp'],inplace = True)\n",
        "df_av"
      ],
      "metadata": {
        "id": "Or5E5JDkbHl4"
      },
      "execution_count": null,
      "outputs": []
    },
    {
      "cell_type": "code",
      "source": [
        "for i in days : \n",
        "  data = features_df[features_df['Timestamp']==i].iloc[:136729,:]\n",
        "  av_row = []\n",
        "  av_row.append(i)\n",
        "  for j in cols :\n",
        "   av = data[j].mean()\n",
        "   av_row.append(float(av))\n",
        "  df_av.loc[len(df_av)] = av_row\n"
      ],
      "metadata": {
        "id": "K69fT_wec3BM"
      },
      "execution_count": null,
      "outputs": []
    },
    {
      "cell_type": "code",
      "source": [
        "features_df.loc[(144*30*2)+(144*22):(144*30*3)-(144*4)]"
      ],
      "metadata": {
        "id": "j3SDu9bQlmBm"
      },
      "execution_count": null,
      "outputs": []
    },
    {
      "cell_type": "code",
      "source": [
        "df_av.info()"
      ],
      "metadata": {
        "id": "ASXeIxl_h1Z_"
      },
      "execution_count": null,
      "outputs": []
    },
    {
      "cell_type": "code",
      "source": [
        "df_av['Power(kW)'].dropna(inplace = True)"
      ],
      "metadata": {
        "id": "uny2wSaqnSht"
      },
      "execution_count": null,
      "outputs": []
    },
    {
      "cell_type": "code",
      "source": [
        "for i in range(1,len(df_av.columns)) : \n",
        "      df_av[df_av.columns[i]].fillna(df_av[df_av.columns[i]].mode(),inplace = True )\n",
        "df_av.isna().sum()  "
      ],
      "metadata": {
        "id": "PIFuqUzQnpEi"
      },
      "execution_count": null,
      "outputs": []
    },
    {
      "cell_type": "code",
      "source": [
        "for i in cols:\n",
        "   df_av[i]= pd.to_numeric(df_av[i])"
      ],
      "metadata": {
        "id": "zMkJIrFGir9N"
      },
      "execution_count": null,
      "outputs": []
    },
    {
      "cell_type": "code",
      "source": [
        "df_av.loc[365:365*2]"
      ],
      "metadata": {
        "id": "ck0GC_08vfGo"
      },
      "execution_count": null,
      "outputs": []
    },
    {
      "cell_type": "code",
      "source": [
        "df_av.set_index('Timestamp',inplace = True)"
      ],
      "metadata": {
        "id": "XnvgRGzXh67g"
      },
      "execution_count": null,
      "outputs": []
    },
    {
      "cell_type": "code",
      "source": [
        "plt.figure(figsize=(30,8))\n",
        "df_av['Power(kW)'].plot()"
      ],
      "metadata": {
        "id": "_L8fDBURiNaL"
      },
      "execution_count": null,
      "outputs": []
    },
    {
      "cell_type": "code",
      "source": [
        "# 2019\n",
        "df_av_2019=df_av.iloc[0:365,:]\n",
        "df_av_2019.tail()"
      ],
      "metadata": {
        "id": "N6rHdl8oxM25"
      },
      "execution_count": null,
      "outputs": []
    },
    {
      "cell_type": "code",
      "source": [
        "df_av_2020=df_av.iloc[365:365*2+1]\n",
        "df_av_2020.tail()"
      ],
      "metadata": {
        "id": "Mr_13L39ie5w"
      },
      "execution_count": null,
      "outputs": []
    },
    {
      "cell_type": "code",
      "source": [
        "df_av_2021=df_av.iloc[365*2+1:]\n",
        "df_av_2021.tail()"
      ],
      "metadata": {
        "id": "nxtOY2t1zSnC"
      },
      "execution_count": null,
      "outputs": []
    },
    {
      "cell_type": "code",
      "source": [
        "df_av_2019.columns"
      ],
      "metadata": {
        "id": "nUCb9Chm0K-K"
      },
      "execution_count": null,
      "outputs": []
    },
    {
      "cell_type": "code",
      "source": [
        "plt.figure(figsize=(30,8))\n",
        "df_av_2019['Power(kW)'].plot()\n",
        "df_av_2020['Power(kW)'].plot()\n",
        "df_av_2021['Power(kW)'].plot()"
      ],
      "metadata": {
        "id": "odKIP4tezdmA"
      },
      "execution_count": null,
      "outputs": []
    },
    {
      "cell_type": "code",
      "source": [
        "plt.figure(figsize=(30,8))\n",
        "df_av_2019['Gearbox_Distributor_Temperature'].plot()\n",
        "df_av_2020['Gearbox_Distributor_Temperature'].plot()\n",
        "df_av_2021['Gearbox_Distributor_Temperature'].plot()"
      ],
      "metadata": {
        "id": "b0-cHebiztz4"
      },
      "execution_count": null,
      "outputs": []
    },
    {
      "cell_type": "code",
      "source": [
        "plt.figure(figsize=(30,8))\n",
        "df_av_2019['Turbine State'].plot()\n",
        "df_av_2020['Turbine State'].plot()\n",
        "df_av_2021['Turbine State'].plot()"
      ],
      "metadata": {
        "id": "0c2WrbY10cF-"
      },
      "execution_count": null,
      "outputs": []
    },
    {
      "cell_type": "code",
      "source": [
        "plt.figure(figsize=(30,8))\n",
        "df_av_2019['Hydraulic Prepressure'].plot()\n",
        "df_av_2020['Hydraulic Prepressure'].plot()\n",
        "df_av_2021['Hydraulic Prepressure'].plot()"
      ],
      "metadata": {
        "id": "M8Zded461YGr"
      },
      "execution_count": null,
      "outputs": []
    },
    {
      "cell_type": "code",
      "source": [
        "plt.figure(figsize=(30,8))\n",
        "df_av_2019['Torque'].plot()\n",
        "df_av_2020['Torque'].plot()\n",
        "df_av_2021['Torque'].plot()"
      ],
      "metadata": {
        "id": "jTCyaDSa2C46"
      },
      "execution_count": null,
      "outputs": []
    },
    {
      "cell_type": "code",
      "source": [
        "# Tower Accelaration Lateral Raw\n",
        "plt.figure(figsize=(30,8))\n",
        "df_av_2019['Tower Accelaration Lateral Raw'].plot()\n",
        "df_av_2020['Tower Accelaration Lateral Raw'].plot()\n",
        "df_av_2021['Tower Accelaration Lateral Raw'].plot()"
      ],
      "metadata": {
        "id": "p99ID_YD2VTh"
      },
      "execution_count": null,
      "outputs": []
    },
    {
      "cell_type": "code",
      "source": [
        "df_av_2019['Power(kW)'].fillna(df_av_2019['Power(kW)'].mean(),inplace = True)"
      ],
      "metadata": {
        "id": "URt96sn95E27"
      },
      "execution_count": null,
      "outputs": []
    },
    {
      "cell_type": "code",
      "source": [
        "#1)Determine Rolling statistics\n",
        "\n",
        "rolmean = df_av['Power(kW)'].rolling(window=2).mean() #window size 12 denotes 12 months\n",
        "rolstd = df_av['Power(kW)'].rolling(window=2).std() #window size 12 denotes 12 months\n",
        "print(rolmean , rolstd)"
      ],
      "metadata": {
        "id": "biViq9c63dsk"
      },
      "execution_count": null,
      "outputs": []
    },
    {
      "cell_type": "code",
      "source": [
        "#plot rolling statistcs \n",
        "plt.figure(figsize=(30,8))\n",
        "orig = plt.plot(df_av['Power(kW)'], color = \"blue\" , label = \"original\")\n",
        "mean = plt.plot(rolmean, color = \"red\" , label = \"Rolling Mean\")\n",
        "orig = plt.plot(rolstd, color = \"black\" , label = \"Rolling Std\")\n",
        "plt.legend(loc=\"best\")\n",
        "plt.title(\"Rolling Mean & STD\")\n",
        "plt.show()"
      ],
      "metadata": {
        "id": "XpHl5tYQCCiX"
      },
      "execution_count": null,
      "outputs": []
    },
    {
      "cell_type": "code",
      "source": [
        "from statsmodels.tsa.seasonal import seasonal_decompose\n",
        "import statsmodels.api as sm\n"
      ],
      "metadata": {
        "id": "0ZY2sJ-rEF8O"
      },
      "execution_count": null,
      "outputs": []
    },
    {
      "cell_type": "code",
      "source": [
        "df_av.dropna(inplace= True)"
      ],
      "metadata": {
        "id": "Sj90WmBp0knU"
      },
      "execution_count": null,
      "outputs": []
    },
    {
      "cell_type": "code",
      "source": [],
      "metadata": {
        "id": "vqmhXPk13rGn"
      },
      "execution_count": null,
      "outputs": []
    },
    {
      "cell_type": "code",
      "source": [],
      "metadata": {
        "id": "CtywcVsq3rAN"
      },
      "execution_count": null,
      "outputs": []
    },
    {
      "cell_type": "markdown",
      "source": [
        "# Power \n"
      ],
      "metadata": {
        "id": "roRZnpMx7UbU"
      }
    },
    {
      "cell_type": "code",
      "source": [
        "# Time Series decomposition. \n",
        "df_av.sort_index(inplace=True)\n",
        "plt.figure(figsize=(20,8))\n",
        "decomposition = sm.tsa.seasonal_decompose(df_av_2019[['Power(kW)']], model = \"additive\")  \n",
        "fig = decomposition.plot()"
      ],
      "metadata": {
        "id": "GI48VA0wFCEI"
      },
      "execution_count": null,
      "outputs": []
    },
    {
      "cell_type": "code",
      "source": [
        "# Autocorrelation plot.\n",
        "x = pd.plotting.autocorrelation_plot(df_av_2019['Power(kW)'])\n",
        "x.plot()\n",
        "plt.show()\n"
      ],
      "metadata": {
        "id": "N6emaA6mJ7oy"
      },
      "execution_count": null,
      "outputs": []
    },
    {
      "cell_type": "code",
      "source": [],
      "metadata": {
        "id": "WvJL6U4B3MTn"
      },
      "execution_count": null,
      "outputs": []
    },
    {
      "cell_type": "code",
      "source": [
        "from statsmodels.tsa.stattools import acf, pacf\n",
        "from statsmodels.graphics.tsaplots import plot_acf, plot_pacf\n",
        "\n",
        "def ACF_and_PACF(data):\n",
        "  fig = plt.figure(figsize = (17,10))\n",
        "  ax1 = fig.add_subplot(211)\n",
        "  fig = plot_acf(data , lags = 15 , ax=ax1)\n",
        "  ax2 = fig.add_subplot(212)\n",
        "  fig = plot_pacf(data , lags = 15 , ax=ax2)"
      ],
      "metadata": {
        "id": "b4vvs9x8KSpV"
      },
      "execution_count": null,
      "outputs": []
    },
    {
      "cell_type": "code",
      "source": [
        "ACF_and_PACF(df_av_2019['Power(kW)'])"
      ],
      "metadata": {
        "id": "SZcu4VTN1z3O"
      },
      "execution_count": null,
      "outputs": []
    },
    {
      "cell_type": "code",
      "source": [
        "# Rolling Window. \n",
        "movingAverage = df_av_2019['Power(kW)'].rolling(window=12).mean()\n",
        "movingSTD = df_av_2019['Power(kW)'].rolling(window=12).std()\n",
        "plt.plot(df_av_2019['Power(kW)'])\n",
        "plt.plot(movingAverage , color = 'red')\n",
        "plt.plot(movingSTD , color = 'black')"
      ],
      "metadata": {
        "id": "riIyw4yO7i1_"
      },
      "execution_count": null,
      "outputs": []
    },
    {
      "cell_type": "markdown",
      "source": [
        "# Tower Accelaration Lateral Raw"
      ],
      "metadata": {
        "id": "y8j4KdAZ7qLV"
      }
    },
    {
      "cell_type": "code",
      "source": [
        "df_av_2019.info()"
      ],
      "metadata": {
        "id": "XjVyUSl18tHa"
      },
      "execution_count": null,
      "outputs": []
    },
    {
      "cell_type": "code",
      "source": [
        "movingAverage = df_av_2019['Tower Accelaration Lateral Raw'].rolling(window=12).mean()\n",
        "movingSTD = df_av_2019['Power(kW)'].rolling(window=12).std()\n",
        "plt.plot(df_av_2019['Power(kW)'])\n",
        "plt.plot(movingAverage , color = 'red')\n",
        "plt.plot(movingSTD , color = 'black')"
      ],
      "metadata": {
        "id": "Bz_UHYFg7YLr"
      },
      "execution_count": null,
      "outputs": []
    },
    {
      "cell_type": "code",
      "source": [
        "# Time Series decomposition. \n",
        "#df_av.sort_index(inplace=True)\n",
        "plt.figure(figsize=(20,8))\n",
        "decomposition = sm.tsa.seasonal_decompose(df_av['Tower Accelaration Lateral Raw'].asfreq('s'), model = \"additive\") \n",
        "fig = decomposition.plot()"
      ],
      "metadata": {
        "id": "9bIhT2b68GpA"
      },
      "execution_count": null,
      "outputs": []
    },
    {
      "cell_type": "code",
      "source": [],
      "metadata": {
        "id": "aquctSRL8mrA"
      },
      "execution_count": null,
      "outputs": []
    }
  ]
}